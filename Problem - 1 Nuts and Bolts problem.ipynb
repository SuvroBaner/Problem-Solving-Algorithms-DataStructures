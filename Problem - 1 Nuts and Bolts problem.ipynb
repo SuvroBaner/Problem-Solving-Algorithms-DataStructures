{
 "cells": [
  {
   "cell_type": "markdown",
   "metadata": {},
   "source": [
    "### Problem Description-\n",
    "Given a set of n nuts of different sizes and n bolts of different sizes. There is a one-one mapping between nuts and bolts. Match nuts and bolts efficiently.\n",
    "Constraint: Comparison of a nut to another nut or a bolt to another bolt is not allowed. It means nut can only be compared with bolt and bolt can only be compared with nut to see which one is bigger/smaller.\n",
    "\n",
    "Other way of asking this problem is, given a box with locks and keys where one lock can be opened by one key in the box. We need to match the pair.\n",
    "\n",
    "Brute force Way: Start with the first bolt and compare it with each nut until we find a match. In the worst case we require n comparisons. Doing this for all bolts gives us O(n^2) complexity.\n",
    "\n",
    "The following solutions is in order of nlogn, i.e. O(nlog(n))"
   ]
  },
  {
   "cell_type": "code",
   "execution_count": 97,
   "metadata": {
    "collapsed": true
   },
   "outputs": [],
   "source": [
    "def quickSort(nuts, bolts):\n",
    "    bolt_pivot = bolts[len(bolts) - 1]\n",
    "    nuts.insert(0, bolt_pivot)    \n",
    "    quickSortHelper(nuts, 0, len(nuts) - 1)\n",
    "    nuts.remove(bolt_pivot)\n",
    "    \n",
    "    nut_pivot = nuts[len(nuts) - 1]\n",
    "    bolts.insert(0, nut_pivot)\n",
    "    quickSortHelper(bolts, 0, len(bolts) - 1)\n",
    "    bolts.remove(nut_pivot)\n",
    "    \n",
    "    for i, j in zip(nuts, bolts):\n",
    "        print(i, j)\n",
    "    \n",
    "def quickSortHelper(alist, first, last):\n",
    "    if first < last:\n",
    "        splitpoint = partition(alist, first, last)\n",
    "        \n",
    "        quickSortHelper(alist, first, splitpoint - 1)\n",
    "        quickSortHelper(alist, splitpoint + 1, last)\n",
    "        \n",
    "def partition(alist, first, last):\n",
    "    pivotvalue = alist[first]\n",
    "    \n",
    "    leftmark = first + 1\n",
    "    rightmark = last\n",
    "    \n",
    "    done = False\n",
    "    \n",
    "    while not done:\n",
    "        while leftmark <= rightmark and alist[leftmark] <= pivotvalue:\n",
    "            leftmark += 1\n",
    "        \n",
    "        while alist[rightmark] >= pivotvalue and rightmark >= leftmark:\n",
    "            rightmark -= 1\n",
    "            \n",
    "        if rightmark < leftmark:\n",
    "            done = True\n",
    "        else:\n",
    "            temp = alist[leftmark]\n",
    "            alist[leftmark] = alist[rightmark]\n",
    "            alist[rightmark] = temp\n",
    "            \n",
    "    temp = alist[first]\n",
    "    alist[first] = alist[rightmark]\n",
    "    alist[rightmark] = temp\n",
    "    \n",
    "    return rightmark"
   ]
  },
  {
   "cell_type": "code",
   "execution_count": 100,
   "metadata": {
    "collapsed": false
   },
   "outputs": [],
   "source": [
    "import random\n",
    "import string\n",
    "\n",
    "def generateNutsBolts():\n",
    "    nuts = [i for i in string.ascii_lowercase]\n",
    "    nuts_shuffled = random.sample(nuts, len(nuts))\n",
    "    \n",
    "    bolts = [i for i in string.ascii_uppercase]\n",
    "    bolts_shuffled = random.sample(bolts, len(bolts))\n",
    "    \n",
    "    return nuts_shuffled, bolts_shuffled"
   ]
  },
  {
   "cell_type": "code",
   "execution_count": 101,
   "metadata": {
    "collapsed": false
   },
   "outputs": [
    {
     "name": "stdout",
     "output_type": "stream",
     "text": [
      "a A\n",
      "b B\n",
      "c C\n",
      "d D\n",
      "e E\n",
      "f F\n",
      "g G\n",
      "h H\n",
      "i I\n",
      "j J\n",
      "k K\n",
      "l L\n",
      "m M\n",
      "n N\n",
      "o O\n",
      "p P\n",
      "q Q\n",
      "r R\n",
      "s S\n",
      "t T\n",
      "u U\n",
      "v V\n",
      "w W\n",
      "x X\n",
      "y Y\n",
      "z Z\n"
     ]
    }
   ],
   "source": [
    "nuts, bolts = generateNutsBolts()\n",
    "quickSort(nuts, bolts)"
   ]
  },
  {
   "cell_type": "code",
   "execution_count": null,
   "metadata": {
    "collapsed": true
   },
   "outputs": [],
   "source": []
  }
 ],
 "metadata": {
  "kernelspec": {
   "display_name": "Python 3",
   "language": "python",
   "name": "python3"
  },
  "language_info": {
   "codemirror_mode": {
    "name": "ipython",
    "version": 3
   },
   "file_extension": ".py",
   "mimetype": "text/x-python",
   "name": "python",
   "nbconvert_exporter": "python",
   "pygments_lexer": "ipython3",
   "version": "3.5.1"
  }
 },
 "nbformat": 4,
 "nbformat_minor": 0
}
